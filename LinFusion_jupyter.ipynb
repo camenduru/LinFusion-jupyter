{
  "cells": [
    {
      "cell_type": "markdown",
      "metadata": {
        "id": "view-in-github"
      },
      "source": [
        "[![Open In Colab](https://colab.research.google.com/assets/colab-badge.svg)](https://colab.research.google.com/github/camenduru/LinFusion-jupyter/blob/main/LinFusion_jupyter.ipynb)"
      ]
    },
    {
      "cell_type": "code",
      "execution_count": null,
      "metadata": {
        "id": "VjYy0F2gZIPR"
      },
      "outputs": [],
      "source": [
        "%cd /content\n",
        "!git clone -b dev https://github.com/camenduru/LinFusion\n",
        "%cd /content/LinFusion\n",
        "\n",
        "!pip install diffusers"
      ]
    },
    {
      "cell_type": "code",
      "execution_count": null,
      "metadata": {},
      "outputs": [],
      "source": [
        "from diffusers import AutoPipelineForText2Image\n",
        "import torch\n",
        "\n",
        "from src.linfusion import LinFusion\n",
        "\n",
        "sd_repo = \"Lykon/dreamshaper-8\"\n",
        "\n",
        "pipeline = AutoPipelineForText2Image.from_pretrained(\n",
        "    sd_repo, torch_dtype=torch.float16, variant=\"fp16\"\n",
        ").to(torch.device(\"cuda\"))\n",
        "\n",
        "linfusion = LinFusion.construct_for(pipeline)\n",
        "\n",
        "image = pipeline(\n",
        "    \"An astronaut floating in space. Beautiful view of the stars and the universe in the background.\",\n",
        "    generator=torch.manual_seed(123)\n",
        ").images[0]"
      ]
    }
  ],
  "metadata": {
    "accelerator": "GPU",
    "colab": {
      "gpuType": "T4",
      "provenance": []
    },
    "kernelspec": {
      "display_name": "Python 3",
      "name": "python3"
    },
    "language_info": {
      "name": "python"
    }
  },
  "nbformat": 4,
  "nbformat_minor": 0
}
